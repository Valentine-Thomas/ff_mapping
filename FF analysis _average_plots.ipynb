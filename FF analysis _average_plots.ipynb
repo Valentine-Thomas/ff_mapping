{
 "cells": [
  {
   "cell_type": "markdown",
   "id": "8ce9a756",
   "metadata": {},
   "source": [
    "#FF analysis- plot averages\n"
   ]
  },
  {
   "cell_type": "code",
   "execution_count": null,
   "id": "e8cee698",
   "metadata": {},
   "outputs": [],
   "source": [
    "#Data informations\n",
    "path= '/mnt/c/Users/Valentine/Documents/Analysis/POI/'\n",
    "files = ['Prm1','Dni1','Dni2','Fus1','Exo70', 'Myo51', 'Cdc8']\n",
    "Myo= ['Myo52_M', 'Myo52_P']"
   ]
  },
  {
   "cell_type": "code",
   "execution_count": null,
   "id": "fcc533ed",
   "metadata": {},
   "outputs": [],
   "source": [
    "#import python packages\n",
    "from trajalign.traj import Traj\n",
    "from trajalign.average import load_directory\n",
    "import numpy as np\n",
    "from matplotlib import pyplot as plt\n",
    "import os\n",
    "from scipy.stats import norm as norm"
   ]
  },
  {
   "cell_type": "markdown",
   "id": "0ddf8f76",
   "metadata": {},
   "source": [
    "### Load data\n",
    "load averaged coordinates, fluorescence an directed distances. "
   ]
  },
  {
   "cell_type": "code",
   "execution_count": null,
   "id": "8717571d",
   "metadata": {},
   "outputs": [],
   "source": [
    "n= len(files)\n",
    "av_POI=[[] for _ in range(n)]\n",
    "av_Myo_P=[[] for _ in range(n)]\n",
    "av_Myo_M=[[] for _ in range(n)]\n",
    "\n",
    "av_distP_POI=[[] for _ in range(n)]\n",
    "av_dist_Myo_PM=[[] for _ in range(n)]\n",
    "av_distM_POI=[[] for _ in range(n)]\n",
    " \n",
    "for i in range (n):\n",
    "    print([path+files[i]])\n",
    "    POI= load_directory(path+files[i] + '/average/',pattern= 'coordinates_POI', comment_char = '#', t_unit='min' ,t= 0, coord = ( 1 ,2 ) , f = 3 ,coord_err=(4 ,5),f_err = 6 ,coord_unit = 'nm' )\n",
    "    av_POI[i].extend(POI)\n",
    "    MP= load_directory(path+files[i] + '/average/',pattern= 'coordinates_Myo_P', comment_char = '#', t_unit='min' ,t= 0, coord = ( 1 ,2 ) , f = 3 ,coord_err=(4 ,5),f_err = 6 ,coord_unit = 'nm' )\n",
    "    av_Myo_P[i].extend(MP)\n",
    "    MM= load_directory(path+files[i] + '/average/',pattern= 'coordinates_Myo_M', comment_char = '#', t_unit='min' ,t= 0, coord = ( 1 ,2 ) , f = 3 ,coord_err=(4 ,5),f_err = 6 ,coord_unit = 'nm' )\n",
    "    av_Myo_M[i].extend(MM)\n",
    "    \n",
    "    dir_= load_directory(path+files[i] + '/average/',pattern= 'coordinates_POI', comment_char = '#', t_unit='min' ,t= 0, coord = ( 1 ,2 ) , f = 3 ,coord_err=(4 ,5),f_err = 6 ,coord_unit = 'nm' )\n",
    "    av_POI[i].extend(POI)\n",
    "    MP= load_directory(path+files[i] + '/average/',pattern= 'coordinates_Myo_P', comment_char = '#', t_unit='min' ,t= 0, coord = ( 1 ,2 ) , f = 3 ,coord_err=(4 ,5),f_err = 6 ,coord_unit = 'nm' )\n",
    "    av_Myo_P[i].extend(MP)\n",
    "    MM= load_directory(path+files[i] + '/average/',pattern= 'coordinates_Myo_M', comment_char = '#', t_unit='min' ,t= 0, coord = ( 1 ,2 ) , f = 3 ,coord_err=(4 ,5),f_err = 6 ,coord_unit = 'nm' )\n",
    "    av_Myo_M[i].extend(MM)\n",
    "    \n"
   ]
  },
  {
   "cell_type": "code",
   "execution_count": null,
   "id": "9af5cab8",
   "metadata": {},
   "outputs": [],
   "source": []
  },
  {
   "cell_type": "code",
   "execution_count": null,
   "id": "2764118c",
   "metadata": {},
   "outputs": [],
   "source": [
    "Ecc_POI= [[] for _ in range(n)] # eccentricity for each point of each trajectory for POI\n",
    "Ecc_Myo_P= [[] for _ in range(n)]\n",
    "Ecc_Myo_M= [[] for _ in range(n)]"
   ]
  }
 ],
 "metadata": {
  "kernelspec": {
   "display_name": "Python 3 (ipykernel)",
   "language": "python",
   "name": "python3"
  },
  "language_info": {
   "codemirror_mode": {
    "name": "ipython",
    "version": 3
   },
   "file_extension": ".py",
   "mimetype": "text/x-python",
   "name": "python",
   "nbconvert_exporter": "python",
   "pygments_lexer": "ipython3",
   "version": "3.8.10"
  }
 },
 "nbformat": 4,
 "nbformat_minor": 5
}
