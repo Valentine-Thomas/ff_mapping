{
 "cells": [
  {
   "cell_type": "markdown",
   "id": "6b40e638",
   "metadata": {},
   "source": [
    "# Statistical analysis\n",
    "Questions => are fus1 different from 0 in early timepoints: t-test\n",
    "\n",
    "=> trend of all proteins : linear regression +t-test \n",
    " \n",
    " => are exocyst proteins getting farther away from Myo52 centroid signal : linear regression + t-test\n",
    " \n",
    " => do two proteins have the same trajectories? permutation test\n",
    "          \n",
    "To discuss with Frederic => consider each point individually : clustering => are all points in same group found in same cluster? \n",
    "PCA on individual POI/ all => composante variability ? \n",
    "\n",
    "NOTE: either prepare .csv file here and export towards R for analysis or perform analysis directly in python (linear regression + t-test) "
   ]
  },
  {
   "cell_type": "code",
   "execution_count": null,
   "id": "d734d8a3",
   "metadata": {},
   "outputs": [],
   "source": [
    "#general infos considering experiement \n",
    "#files containing fusion events folder\n",
    "path= '/mnt/c/Users/Valentine/Documents/Analysis/POI_replicats/' \n",
    "files = ['Prm1','Dni1','Dni2','Fus1','Exo70', 'Myo51', 'Cdc8','Exo84']\n",
    "Myo= ['Myo52_M', 'Myo52_P']\n",
    "RefM= '_B'\n",
    "RefP= '_R'"
   ]
  },
  {
   "cell_type": "code",
   "execution_count": 4,
   "id": "c5327323",
   "metadata": {},
   "outputs": [],
   "source": [
    "# import all necessary packages \n",
    "from trajalign.traj import Traj\n",
    "from trajalign.average import load_directory\n",
    "import numpy as np\n",
    "import pandas as pd\n",
    "from matplotlib import pyplot as plt\n",
    "import os\n",
    "import statsmodels.api as sm\n",
    "from statsmodels.formula.api import ols\n",
    "from scipy.stats import norm as norm\n"
   ]
  },
  {
   "cell_type": "markdown",
   "id": "84c1aa6c",
   "metadata": {},
   "source": [
    "## datasets preparation (timepoints vs d_PPOI distances)\n",
    "\n",
    "load directed_distances traj files\n",
    "Linear regression => consider all points of the array \n",
    " => 2 linear regression on fus1? \n",
    " Mean comparison => bin data in 2 groups : early fusion (t=[,] )/ late fusion (t= [,0[\n",
    "\n",
    "column: timepoints + n° Replicats \n",
    "timepoints => np.linspace(-60,0,21)\n"
   ]
  },
  {
   "cell_type": "code",
   "execution_count": 3,
   "id": "381b62e5",
   "metadata": {},
   "outputs": [
    {
     "data": {
      "text/plain": [
       "array([-60., -57., -54., -51., -48., -45., -42., -39., -36., -33., -30.,\n",
       "       -27., -24., -21., -18., -15., -12.,  -9.,  -6.,  -3.,   0.])"
      ]
     },
     "execution_count": 3,
     "metadata": {},
     "output_type": "execute_result"
    }
   ],
   "source": [
    "#load directed distances trajectories files \n",
    "\n",
    "def replicats_nb(POI):\n",
    "    rep_list = [ folder for folder in os.listdir(path+POI+'/aligned_trajectories/') if 'Rep_' in folder ]\n",
    "    r= len(rep_list)\n",
    "    return r\n",
    "\n",
    "def get_data(POI,rep) :\n",
    "    directory_rep = os.listdir( path+POI+'/aligned_trajectories/Rep_'+str(rep+1)+'/') #absolute path of directory to charge data from\n",
    "    f = [ folder for folder in directory_rep if 'cell_' in folder ] # 'cell_' -> folder nam to list\n",
    "    return f \n",
    "\n",
    "n= len(files) \n",
    "Rep= []\n",
    "for i in range(n):\n",
    "    r=replicats_nb(files[i])\n",
    "    Rep.append(r)\n",
    "\n",
    "\n",
    "folders=[[] for _ in range(n)] #lists for POI rep folders => 1\n",
    "Cells=[[] for _ in range(n)] #lists of trajectories for each events for each POI of each replicate\n",
    "\n",
    "for i in range(len(Rep)):\n",
    "    folders[i]=[[] for _ in range(Rep[i])] \n",
    "    Cells[i]=[[] for _ in range(Rep[i])] \n",
    "\n",
    "# list all cell_ folders for each POI replicats\n",
    "\n",
    "for i in range(n) :\n",
    "    for r in range(Rep[i]):\n",
    "        f=get_data(files[i],r)\n",
    "        folders[i][r]= f \n",
    "        \n",
    "ct=0\n",
    "for f in folders:\n",
    "    r=1\n",
    "    i=0 \n",
    "    for rep in f:\n",
    "        for event in rep: \n",
    "            t_l = load_directory(path+files[ct] +'/aligned_trajectories/Rep_'+str(r)+'/'+ event ,pattern= 'dir_dist', comment_char = '#', t_unit='min' , frames = 0 ,t= 1, coord = ( 2 , 3 ) , f = 4 ,coord_err=(5 ,6),f_err = 7 ,coord_unit = 'pxl' )\n",
    "            Cells[ct][i].extend(t_l)\n",
    "        r+=1\n",
    "        i+=1\n",
    "    ct+=1\n",
    "    "
   ]
  },
  {
   "cell_type": "code",
   "execution_count": null,
   "id": "162286fa",
   "metadata": {},
   "outputs": [],
   "source": [
    "# order trajectories per list according to measured distance\n",
    "vect_d_P_POI= [[] for _ in range(n)] # directed distance from Myo52_P towards POI for each events\n",
    "vect_d_P_M= [[] for _ in range(n)]   # directed distance from Myo52_P towards Myo52_M for each events\n",
    "vect_d_M_POI= [[] for _ in range(n)]  #  directed distance from Myo52_M towards POI for each events \n",
    "for i in range(len(Rep)):\n",
    "    vect_d_P_POI[i]=[[] for _ in range(Rep[i])] \n",
    "    vect_d_M_POI[i]=[[] for _ in range(Rep[i])] \n",
    "    vect_d_P_M[i]= [[] for _ in range(Rep[i])]\n",
    "    \n",
    "for i in range(n):\n",
    "        for r in range (len(Cells[i])):\n",
    "            for t in Cells[i][r]:\n",
    "                if \"P_POI\" in t.annotations() ['file'] : \n",
    "                    vect_d_P_POI[i][r].append(t)\n",
    "                elif \"M_POI\" in t.annotations() ['file'] :\n",
    "                    vect_d_M_POI[i][r].append(t)\n",
    "                else : \n",
    "                    vect_d_P_M[i][r].append(t)\n",
    "                    "
   ]
  },
  {
   "cell_type": "markdown",
   "id": "d59cf2d7",
   "metadata": {},
   "source": [
    "Compute csv file, notes:\n",
    "\n",
    "=> needs 21 timepoints, POI name, REP, measured distance\n",
    "=> aim: save df with all POI infos (All replicats) independant for all POI and with dd_PM \n",
    "        function (list, file,folder, Rep) [probably] => needs loop to create vector timepoints"
   ]
  },
  {
   "cell_type": "code",
   "execution_count": 25,
   "id": "ae7b0414",
   "metadata": {},
   "outputs": [],
   "source": [
    "#create empty dataframe with right colums\n",
    "colnames=['Event','Protein','Replicats','MDist'] # infos about the fusion event, event = cell folder id, Dist=directed distance measured\n",
    "tp=np.linspace(-60,0,21) # to add timepoints as strings\n",
    "for i in range(len(tp)):\n",
    "    t=str(tp[i])\n",
    "    colnames.append(t)\n",
    "\n",
    "df=pd.DataFrame(columns=colnames) #create the empty dataframe\n",
    "\n",
    "#df.to_csv('filename.csv')"
   ]
  }
 ],
 "metadata": {
  "kernelspec": {
   "display_name": "Python 3 (ipykernel)",
   "language": "python",
   "name": "python3"
  },
  "language_info": {
   "codemirror_mode": {
    "name": "ipython",
    "version": 3
   },
   "file_extension": ".py",
   "mimetype": "text/x-python",
   "name": "python",
   "nbconvert_exporter": "python",
   "pygments_lexer": "ipython3",
   "version": "3.8.10"
  }
 },
 "nbformat": 4,
 "nbformat_minor": 5
}
