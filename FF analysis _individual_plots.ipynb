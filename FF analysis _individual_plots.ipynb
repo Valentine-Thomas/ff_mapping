{
 "cells": [
  {
   "cell_type": "markdown",
   "id": "1c063a15",
   "metadata": {},
   "source": [
    "# Plots individual events \n"
   ]
  },
  {
   "cell_type": "code",
   "execution_count": null,
   "id": "10d69565",
   "metadata": {},
   "outputs": [],
   "source": [
    "#Data informations\n",
    "path= '/mnt/c/Users/Valentine/Documents/Analysis/POI/'\n",
    "files = ['Prm1','Dni1','Dni2','Fus1','Exo70', 'Myo51', 'Cdc8']\n",
    "Myo= ['Myo52_M', 'Myo52_P']\n",
    "RefM= '_B'\n",
    "RefP= '_R'"
   ]
  },
  {
   "cell_type": "code",
   "execution_count": null,
   "id": "2a9e01c0",
   "metadata": {},
   "outputs": [],
   "source": [
    "#import python packages\n",
    "from trajalign.traj import Traj\n",
    "from trajalign.average import load_directory\n",
    "import numpy as np\n",
    "from matplotlib import pyplot as plt\n",
    "import os\n",
    "from scipy.stats import norm as norm"
   ]
  },
  {
   "cell_type": "markdown",
   "id": "0a63dcec",
   "metadata": {},
   "source": [
    "### Plot coordinates and fluorescence\n",
    "#### load data \n",
    "load data from each cell and sort them in per color"
   ]
  },
  {
   "cell_type": "code",
   "execution_count": null,
   "id": "3bee6cd3",
   "metadata": {},
   "outputs": [],
   "source": [
    "def get_data(POI) :\n",
    "    directory_p = os.listdir( path+POI+'/aligned_trajectories') #absolute path of directory to charge data from\n",
    "    f = [ folder for folder in directory_p if 'cell_' in folder ] # 'cell_' -> folder nam to list\n",
    "    return f \n",
    "\n",
    "n= len(files)\n",
    "folders=[[] for _ in range(n)] #lists of event folder\n",
    "Cells=[[] for _ in range(n)] #lists of trajectories for each events for each POI\n",
    "\n",
    "ct=0\n",
    "for p in files :\n",
    "    f=get_data(p)\n",
    "    folders[ct].extend(f) \n",
    "    ct+=1 \n",
    "    \n",
    "ct=0\n",
    "for f in folders:\n",
    "    print([path+files[ct]])\n",
    "    for folder in f: \n",
    "        t_l = load_directory(path+files[ct] + '/aligned_trajectories/' + folder ,pattern= 'Traj_', comment_char = '#', t_unit='min' , frames = 0 ,t= 1, coord = ( 2 , 3 ) , f = 4 ,coord_err=(5 ,6),f_err = 7 ,coord_unit = 'pxl' )\n",
    "        Cells[ct].extend(t_l)\n",
    "    ct+=1\n",
    "# prime lists\n",
    "POI=[[] for _ in range(n)]\n",
    "Myo52= [[] for _ in range(2)] #get Myo52 data in one list; [0] = Myo_M, [1] = Myo_P \n",
    "Myo_P=[[] for _ in range(n)]\n",
    "Myo_M=[[] for _ in range(n)]\n",
    "Ecc_POI= [[] for _ in range(n)] # eccentricity for each point of each trajectory for POI\n",
    "Ecc_Myo_P= [[] for _ in range(n)]\n",
    "Ecc_Myo_M= [[] for _ in range(n)]\n",
    "\n",
    "# sort trajectories according to origin \n",
    "\n",
    "for i in range(len(Cells)):\n",
    "        for t in Cells[i]:\n",
    "            if RefP in t.annotations() ['file'] : \n",
    "                Myo_P[i].append(t)\n",
    "                Myo52[1].append(t)\n",
    "            elif RefM in t.annotations() ['file'] :\n",
    "                Myo_M[i].append(t)\n",
    "                Myo52[0].append(t) \n",
    "            else : \n",
    "                POI[i].append(t) \n"
   ]
  },
  {
   "cell_type": "code",
   "execution_count": null,
   "id": "7c1720fd",
   "metadata": {},
   "outputs": [],
   "source": []
  },
  {
   "cell_type": "code",
   "execution_count": null,
   "id": "d551d1cf",
   "metadata": {},
   "outputs": [],
   "source": []
  }
 ],
 "metadata": {
  "kernelspec": {
   "display_name": "Python 3 (ipykernel)",
   "language": "python",
   "name": "python3"
  },
  "language_info": {
   "codemirror_mode": {
    "name": "ipython",
    "version": 3
   },
   "file_extension": ".py",
   "mimetype": "text/x-python",
   "name": "python",
   "nbconvert_exporter": "python",
   "pygments_lexer": "ipython3",
   "version": "3.8.10"
  }
 },
 "nbformat": 4,
 "nbformat_minor": 5
}
